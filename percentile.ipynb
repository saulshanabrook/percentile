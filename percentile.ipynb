{
 "metadata": {
  "name": "",
  "signature": "sha256:e4f18d80ebe7f97214a1d7d5ea9461828ce52c357d53c83ff7b4bed84cd5231d"
 },
 "nbformat": 3,
 "nbformat_minor": 0,
 "worksheets": [
  {
   "cells": [
    {
     "cell_type": "markdown",
     "metadata": {},
     "source": [
      "> You take $n$ samples of response times for `https://google.com/`, each with time $x_1, x_2, x_3, \\dots x_m$. You know that population response times fit a log normal distribution.\n",
      "> 1. Estimate the population $\\mu$ and $\\sigma^2$.\n",
      "> 2. Use these parameters to predict the 50th, 95th, 99th, and $p$th percentiles of the population response times.\n",
      "> 3. Give 95th and $k$th percentile confidendense intervals for each percentile."
     ]
    },
    {
     "cell_type": "code",
     "collapsed": false,
     "input": [],
     "language": "python",
     "metadata": {},
     "outputs": []
    }
   ],
   "metadata": {}
  }
 ]
}